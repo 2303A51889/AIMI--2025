{
  "nbformat": 4,
  "nbformat_minor": 0,
  "metadata": {
    "colab": {
      "provenance": [],
      "authorship_tag": "ABX9TyOQUp2UWApKN8qJ3tAx+Ncu",
      "include_colab_link": true
    },
    "kernelspec": {
      "name": "python3",
      "display_name": "Python 3"
    },
    "language_info": {
      "name": "python"
    }
  },
  "cells": [
    {
      "cell_type": "markdown",
      "metadata": {
        "id": "view-in-github",
        "colab_type": "text"
      },
      "source": [
        "<a href=\"https://colab.research.google.com/github/2303A51889/AIMI--2025/blob/main/AIML_LAB03.ipynb\" target=\"_parent\"><img src=\"https://colab.research.google.com/assets/colab-badge.svg\" alt=\"Open In Colab\"/></a>"
      ]
    },
    {
      "cell_type": "markdown",
      "source": [],
      "metadata": {
        "id": "_L15wTk1Z3vG"
      }
    },
    {
      "cell_type": "markdown",
      "source": [],
      "metadata": {
        "id": "gbSIod8DZ_rb"
      }
    },
    {
      "cell_type": "code",
      "source": [
        "from collection import namedtuple,counter,defaultdict\n",
        "import random\n",
        "import math\n",
        "import functools\n",
        "cache = functools.lru_cache(10**6)"
      ],
      "metadata": {
        "colab": {
          "base_uri": "https://localhost:8080/",
          "height": 383
        },
        "id": "iI4sH1tpcTn2",
        "outputId": "f8ac0169-fb0d-41d7-f7f8-8f2ee66e342e"
      },
      "execution_count": 8,
      "outputs": [
        {
          "output_type": "error",
          "ename": "ModuleNotFoundError",
          "evalue": "No module named 'collection'",
          "traceback": [
            "\u001b[0;31m---------------------------------------------------------------------------\u001b[0m",
            "\u001b[0;31mModuleNotFoundError\u001b[0m                       Traceback (most recent call last)",
            "\u001b[0;32m<ipython-input-8-bc2ac3642cd4>\u001b[0m in \u001b[0;36m<cell line: 1>\u001b[0;34m()\u001b[0m\n\u001b[0;32m----> 1\u001b[0;31m \u001b[0;32mfrom\u001b[0m \u001b[0mcollection\u001b[0m \u001b[0;32mimport\u001b[0m \u001b[0mnamedtuple\u001b[0m\u001b[0;34m,\u001b[0m\u001b[0mcounter\u001b[0m\u001b[0;34m,\u001b[0m\u001b[0mdefaultdict\u001b[0m\u001b[0;34m\u001b[0m\u001b[0;34m\u001b[0m\u001b[0m\n\u001b[0m\u001b[1;32m      2\u001b[0m \u001b[0;32mimport\u001b[0m \u001b[0mrandom\u001b[0m\u001b[0;34m\u001b[0m\u001b[0;34m\u001b[0m\u001b[0m\n\u001b[1;32m      3\u001b[0m \u001b[0;32mimport\u001b[0m \u001b[0mmath\u001b[0m\u001b[0;34m\u001b[0m\u001b[0;34m\u001b[0m\u001b[0m\n\u001b[1;32m      4\u001b[0m \u001b[0;32mimport\u001b[0m \u001b[0mfunctools\u001b[0m\u001b[0;34m\u001b[0m\u001b[0;34m\u001b[0m\u001b[0m\n\u001b[1;32m      5\u001b[0m \u001b[0mcache\u001b[0m \u001b[0;34m=\u001b[0m \u001b[0mfunctools\u001b[0m\u001b[0;34m.\u001b[0m\u001b[0mlru_cache\u001b[0m\u001b[0;34m(\u001b[0m\u001b[0;36m10\u001b[0m\u001b[0;34m**\u001b[0m\u001b[0;36m6\u001b[0m\u001b[0;34m)\u001b[0m\u001b[0;34m\u001b[0m\u001b[0;34m\u001b[0m\u001b[0m\n",
            "\u001b[0;31mModuleNotFoundError\u001b[0m: No module named 'collection'",
            "",
            "\u001b[0;31m---------------------------------------------------------------------------\u001b[0;32m\nNOTE: If your import is failing due to a missing package, you can\nmanually install dependencies using either !pip or !apt.\n\nTo view examples of installing some common dependencies, click the\n\"Open Examples\" button below.\n\u001b[0;31m---------------------------------------------------------------------------\u001b[0m\n"
          ],
          "errorDetails": {
            "actions": [
              {
                "action": "open_url",
                "actionText": "Open Examples",
                "url": "/notebooks/snippets/importing_libraries.ipynb"
              }
            ]
          }
        }
      ]
    },
    {
      "cell_type": "code",
      "source": [
        "class Game:\n",
        "def actions (self , state ):\n",
        "   ##Return a collection of the allowable moves from this state .##\n",
        "   raise NotImplementedError\n",
        "def result (self , state , move ):\n",
        "   ##Return the state that results from making a move from a state .”””\n",
        "   raise NotImplementedError\n",
        "def is terminal (self , state ):\n",
        "    Return True if this is a final state for the game.\n",
        "    return not self. actions (state)\n",
        "def utility (self , state , player ):\n",
        "   \"\"\"Return the value of this final state to player.”””\n",
        "   raise NotImplementedError\"\"\n"
      ],
      "metadata": {
        "colab": {
          "base_uri": "https://localhost:8080/",
          "height": 106
        },
        "id": "k-WS8LUrcurE",
        "outputId": "6c63c65b-94f8-4a8f-cd0f-60ccb847e8ce"
      },
      "execution_count": 14,
      "outputs": [
        {
          "output_type": "error",
          "ename": "SyntaxError",
          "evalue": "unterminated triple-quoted string literal (detected at line 13) (<ipython-input-14-def005f219b6>, line 12)",
          "traceback": [
            "\u001b[0;36m  File \u001b[0;32m\"<ipython-input-14-def005f219b6>\"\u001b[0;36m, line \u001b[0;32m12\u001b[0m\n\u001b[0;31m    \"\"\"Return the value of this final state to player.”””\u001b[0m\n\u001b[0m    ^\u001b[0m\n\u001b[0;31mSyntaxError\u001b[0m\u001b[0;31m:\u001b[0m unterminated triple-quoted string literal (detected at line 13)\n"
          ]
        }
      ]
    },
    {
      "cell_type": "markdown",
      "source": [
        "1. MiniMax Tree\n",
        "2.Alpha-Beta Search Algorithm\n"
      ],
      "metadata": {
        "id": "e3kiSRaiexzb"
      }
    },
    {
      "cell_type": "code",
      "source": [
        "import math\n",
        "def minimax_search (game , state ):\n",
        "\n",
        "  player = state. to_move\n",
        "  def max_value (state ):\n",
        "    if game. is_terminal (state ):\n",
        "        return game. utility (state , player ), None\n",
        "    v, move = -infinity , None\n",
        "    for a in game. actions (state ):\n",
        "        v2 , = min_value (game. result (state , a))\n",
        "        if v2 > v: # De-indent this line to align with the 'for' loop\n",
        "          v, move = v2 , a\n",
        "    return v, move\n",
        "  def min_value (state ):\n",
        "      if game. is_terminal (state ):\n",
        "          return game. utility (state , player ), None\n",
        "      v, move = +infinity , None\n",
        "      for a in game. actions (state ):\n",
        "          v2 , = max_value (game. result (state , a))\n",
        "          if v2 < v: # De-indent this line to align with the 'for' loop\n",
        "             v, move = v2 , a\n",
        "      return v, move\n",
        "  return max_value (state)\n",
        "infinity = math.inf"
      ],
      "metadata": {
        "id": "UAbvsEQsfU-k"
      },
      "execution_count": 60,
      "outputs": []
    },
    {
      "source": [
        "def alphabeta_search(game, state):\n",
        "    \"\"\"Search game to determine best action; use alpha−beta pruning.\n",
        "    Search all the way to the leaves.\n",
        "\"\"\"\n",
        "    player = state.to_move\n",
        "\n",
        "    def max_value(state, alpha, beta):\n",
        "        if game.is_terminal(state):\n",
        "            return game.utility(state, player), None\n",
        "        v, move = -float('inf'), None\n",
        "        for a in game.actions(state):\n",
        "            v2, _ = min_value(game.result(state, a), alpha, beta)\n",
        "            if v2 > v:\n",
        "                v, move = v2 , a  # Indent this line to be inside the 'if' block\n",
        "            alpha = max(alpha , v)\n",
        "            if v >= beta:\n",
        "                return v, move\n",
        "        return v, move\n",
        "\n",
        "    def min_value (state , alpha , beta ):\n",
        "        if game. is_terminal (state ):\n",
        "            return game. utility (state , player ), None\n",
        "        v, move = +infinity , None\n",
        "        for a in game. actions (state ):\n",
        "            v2 , = max_value (game. result (state , a), alpha , beta)\n",
        "            if v2 < v:\n",
        "                v, move = v2 , a\n",
        "            beta = min(beta , v)\n",
        "            if v <= alpha:\n",
        "                return v, move\n",
        "        return v, move # Uncomment this line to return the result\n",
        "\n",
        "    return max_value(state, float('-inf'), float('inf'))  # Call max_value to start the search"
      ],
      "cell_type": "code",
      "metadata": {
        "id": "f0pmh9SDjAvl"
      },
      "execution_count": 31,
      "outputs": []
    },
    {
      "cell_type": "code",
      "source": [
        " Part 3 Implement the Game Strategy using TicTocToe. [CO4]\n"
      ],
      "metadata": {
        "id": "kIgzHV8envAT"
      },
      "execution_count": null,
      "outputs": []
    },
    {
      "source": [
        "class Game :\n",
        "class TicTacToe(Game):\n",
        "    \"\"\"Play TicTacToe on an height by width board, needing k in a row to win.\n",
        "    X plays first against O.\n",
        "\n",
        "    \"\"\"\n",
        "    def actions ()\n",
        "    def __init__(self, height=3, width=3, k=3):\n",
        "        self.k = k  # k in a row\n",
        "        self.squares = {(x, y) for x in range(width) for y in range(height)}  # Use curly braces for set comprehension\n",
        "        self.initial = Board(height=height, width=width, to_move='X', utility=0)  # String values for 'X' and 'O'\n",
        "\n",
        "    def actions(self, board):\n",
        "        \"\"\"Legal moves are any square not yet taken.\"\"\"\n",
        "        return self.squares - set(board)\n",
        "\n",
        "    def result(self, board, square):\n",
        "        \"\"\"Place a marker for current player on square.\"\"\"\n",
        "        player = board.to_move\n",
        "        board = board.new({square: player}, to_move=('O' if player == 'X' else 'X'))  # Use dictionary for new and string values for 'X' and 'O'\n",
        "        win = self.k_in_row(board, player, square, self.k)  # Call k_in_row method\n",
        "        board.utility = (0 if not win else +1 if player == 'X' else -1)  # String value for 'X'\n",
        "        return board\n",
        "\n",
        "    def utility(self, board, player):\n",
        "        \"\"\"Return the value to player; 1 for win, -1 for loss, 0 otherwise.\"\"\"\n",
        "        return board.utility if player == 'X' else -board.utility  # String value for 'X'\n",
        "\n",
        "    def is_terminal(self, board):\n",
        "        \"\"\"A board is a terminal state if it is won or there are no empty squares.\"\"\"\n",
        "        return board.utility != 0 or len(self.squares) == len(board)\n",
        "\n",
        "    def display(self, board):\n",
        "        print(board)\n",
        "\n",
        "    def k_in_row(self, board, player, square, k):  # Rename method to k_in_row\n",
        "        \"\"\"True if player has k pieces in a line through square.\"\"\"\n",
        "        def in_row(x, y, dx, dy):\n",
        "            return 0 if board.get((x, y), None) != player else 1 + in_row(x + dx, y + dy, dx, dy)  # Use get method to check for key existence\n",
        "        return any(in_row(*square, dx, dy) + in_row(*square, -dx, -dy) - 1 >= k\n",
        "                   for (dx, dy) in ((0, 1), (1, 0), (1, 1), (1, -1)))"
      ],
      "cell_type": "code",
      "metadata": {
        "colab": {
          "base_uri": "https://localhost:8080/",
          "height": 106
        },
        "id": "DHFpqHYjo-1p",
        "outputId": "9a630d84-f3b7-44d9-a698-e4402e382f7b"
      },
      "execution_count": 68,
      "outputs": [
        {
          "output_type": "error",
          "ename": "IndentationError",
          "evalue": "expected an indented block after class definition on line 1 (<ipython-input-68-4ef04f944c21>, line 2)",
          "traceback": [
            "\u001b[0;36m  File \u001b[0;32m\"<ipython-input-68-4ef04f944c21>\"\u001b[0;36m, line \u001b[0;32m2\u001b[0m\n\u001b[0;31m    class TicTacToe(Game):\u001b[0m\n\u001b[0m    ^\u001b[0m\n\u001b[0;31mIndentationError\u001b[0m\u001b[0;31m:\u001b[0m expected an indented block after class definition on line 1\n"
          ]
        }
      ]
    },
    {
      "source": [
        "class Game:  # Define a base Game class\n",
        "    \"\"\"A game is similar to a problem, but it has a utility for each\n",
        "    state and a terminal test instead of a path cost and a goal\n",
        "    test. To create a game, subclass this class and implement actions,\n",
        "    result, utility, and is_terminal. You may override display and\n",
        "    successors or you can inherit their default methods. You will also\n",
        "    need to set the .initial attribute to the initial state; this can\n",
        "    be done in the constructor.\"\"\"\n",
        "\n",
        "    def actions("
      ],
      "cell_type": "code",
      "metadata": {
        "colab": {
          "base_uri": "https://localhost:8080/",
          "height": 106
        },
        "id": "JUt3TdRap4im",
        "outputId": "31e8e659-2b2a-42d4-a2e8-bd0285f6bc4d"
      },
      "execution_count": 66,
      "outputs": [
        {
          "output_type": "error",
          "ename": "SyntaxError",
          "evalue": "incomplete input (<ipython-input-66-5d32ed23be96>, line 10)",
          "traceback": [
            "\u001b[0;36m  File \u001b[0;32m\"<ipython-input-66-5d32ed23be96>\"\u001b[0;36m, line \u001b[0;32m10\u001b[0m\n\u001b[0;31m    def actions(\u001b[0m\n\u001b[0m                ^\u001b[0m\n\u001b[0;31mSyntaxError\u001b[0m\u001b[0;31m:\u001b[0m incomplete input\n"
          ]
        }
      ]
    }
  ]
}